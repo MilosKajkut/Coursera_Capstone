{
 "cells": [
  {
   "cell_type": "markdown",
   "metadata": {},
   "source": [
    "# Project Gym/Fitness center in Toronto "
   ]
  },
  {
   "cell_type": "markdown",
   "metadata": {},
   "source": [
    "In this project, the goal is to determine the neighborhood that is most suitable to open a new gym/fitness center in Toronto. The reason for opening the gym/fitness center is to give, junior and middle-age residents of Toronto, a new place where they can spend time on their physical education and development. Also, it is very important to give service to a different profile of potential customers. Different profile of potential customers means that the gym or fitness center is open for amateur or professional athletes, for runners, lifters or combat athletes. Because of the vision of purpose, the gym/fitness center should have well educated and experienced trainers. The neighborhood should fulfill a couple of requests:"
   ]
  },
  {
   "cell_type": "markdown",
   "metadata": {},
   "source": [
    "<ol>\n",
    "    <li>The average age of residents should be in group of junior or middle-age;</li>\n",
    "    <li>Residents should be capable to pay monthly membership;</li>\n",
    "    <li>Residents should have a tendency to be physically active and healthy etc.</li>\n",
    "</ol>"
   ]
  },
  {
   "cell_type": "markdown",
   "metadata": {},
   "source": [
    "Other factors, which have an impact on the final decision are also: education, number of family members, occupations, immigration, etc."
   ]
  },
  {
   "cell_type": "markdown",
   "metadata": {},
   "source": [
    "To determine the final decision, we will need different research data. Firstly we should explore neighborhoods in the city of Toronto, that means exam current number of gym/fitness center in each neighborhood. The average age of the population in each neighborhood. Average Family income. Neighborhood population change and population sex."
   ]
  },
  {
   "cell_type": "markdown",
   "metadata": {},
   "source": [
    "Data about the residents of Toronto are very important for the final decision about which neighborhood is the most suitable for a new gym or fitness center. In this case, we are interested in physical behavior of residents of Toronto and Canada.  It this important to determine the relationship between neighborhood and residents,  and what the impact neighborhood(all factors which come with the neighborhood) have on the physical activities of their residents. "
   ]
  }
 ],
 "metadata": {
  "kernelspec": {
   "display_name": "Python",
   "language": "python",
   "name": "conda-env-python-py"
  },
  "language_info": {
   "codemirror_mode": {
    "name": "ipython",
    "version": 3
   },
   "file_extension": ".py",
   "mimetype": "text/x-python",
   "name": "python",
   "nbconvert_exporter": "python",
   "pygments_lexer": "ipython3",
   "version": "3.6.10"
  }
 },
 "nbformat": 4,
 "nbformat_minor": 4
}
